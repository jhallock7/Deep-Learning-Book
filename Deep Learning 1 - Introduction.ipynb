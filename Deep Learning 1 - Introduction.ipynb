{
 "cells": [
  {
   "cell_type": "markdown",
   "metadata": {},
   "source": [
    "# **Chapter 1 - Introduction**"
   ]
  },
  {
   "cell_type": "markdown",
   "metadata": {
    "collapsed": true
   },
   "source": [
    "**Q 1:** In very general terms, what is **deep learning**? **A:** An approach to artificial intelligence that allows machines to understand the world in terms of a hierarchy of concepts, and to learn this hierarchy from experience (data)."
   ]
  },
  {
   "cell_type": "markdown",
   "metadata": {},
   "source": [
    "**Q 2:** Why is object recognition so easy for humans but hard for machines? **A:** It requires an immense amount of knowledge, most of which is subjective and intuitive. Note that this is the opposite of chess: a small set of knowledge that can be described formally."
   ]
  },
  {
   "cell_type": "markdown",
   "metadata": {},
   "source": [
    "**Q 3:** What is the **knowledge base approach** to AI? **A:** To express knowledge about the world in formal languages, which a machine can then use to reason about the world using logical inference rules."
   ]
  },
  {
   "cell_type": "markdown",
   "metadata": {},
   "source": [
    "**Q 4:** In contrast, what is the **machine learning approach**? **A:** Rather than being given hard-coded knowledge, machines can acquire their own knowledge by extracting patterns from data."
   ]
  },
  {
   "cell_type": "markdown",
   "metadata": {},
   "source": [
    "**Q 5:** Simpler ML algorithms tend to be very dependent on what? **A:**  How the data is represented as \"**features**\". For example, in raw MRIs, individual pixel intensities correlate poorly with any meaningful information contained in the image. This dependence on representation is extremely common in CS and even daily life."
   ]
  },
  {
   "cell_type": "markdown",
   "metadata": {},
   "source": [
    "**Q 6:** What is **Representation Learning**? **A:** To use machine learning to discover the optimal representation of the data as a set of features, in addition to the mapping of the representation to the output."
   ]
  },
  {
   "cell_type": "markdown",
   "metadata": {},
   "source": [
    "**Q 7:** What is usually the goal when designing features or algorithms for learning features? **A:** To separate out the \"**factors of variation**\" that best explain the observed data."
   ]
  },
  {
   "cell_type": "markdown",
   "metadata": {},
   "source": [
    "**Q 8:** What is a common difficulty with separating out the factors of variation? **A:** They often influence every single piece of data we are able to observe. In many cases, it is nearly as difficult to obtain a useful representation of the data as it is to solve the original problem. "
   ]
  },
  {
   "cell_type": "markdown",
   "metadata": {},
   "source": [
    "**Q 9:** How does deep learning address these difficulties of finding a representation of the data? **A:** It can express representations in terms of other, simpler representations."
   ]
  },
  {
   "cell_type": "markdown",
   "metadata": {},
   "source": [
    "**Q 10:** In general terms, what is a **multilayer perceptron**, aka a **feedforward deep network**? **A:** A mathematical function formed by composing many simpler functions."
   ]
  },
  {
   "cell_type": "markdown",
   "metadata": {},
   "source": [
    "**Q 11:** Other than the view of DL as building a hierarchy of concepts or representations, what is another view of DL? **A:** That the depth of the network allows the machine to learn a multistep computer program."
   ]
  },
  {
   "cell_type": "markdown",
   "metadata": {},
   "source": []
  },
  {
   "cell_type": "code",
   "execution_count": null,
   "metadata": {
    "collapsed": true
   },
   "outputs": [],
   "source": []
  }
 ],
 "metadata": {
  "kernelspec": {
   "display_name": "Python 3",
   "language": "python",
   "name": "python3"
  },
  "language_info": {
   "codemirror_mode": {
    "name": "ipython",
    "version": 3
   },
   "file_extension": ".py",
   "mimetype": "text/x-python",
   "name": "python",
   "nbconvert_exporter": "python",
   "pygments_lexer": "ipython3",
   "version": "3.4.3"
  }
 },
 "nbformat": 4,
 "nbformat_minor": 2
}
